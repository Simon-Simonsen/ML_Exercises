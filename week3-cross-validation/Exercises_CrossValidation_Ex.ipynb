{
 "cells": [
  {
   "cell_type": "markdown",
   "id": "8a168987-8d24-46f9-893a-f99613c96f93",
   "metadata": {},
   "source": [
    "<b>Machine Learning Exercise session: 11th SEPTEMBER 2025</b>"
   ]
  },
  {
   "cell_type": "markdown",
   "id": "5587de67-4b16-466d-b938-5cf0be968926",
   "metadata": {},
   "source": [
    "# <b>Working with: CROSS-VALIDATION AND REGULARISATION</b>\n",
    "\n",
    "Welcome to this week's exercise session. Today, we will learn about CROSS VALIDATION AND REGULARISATION OF MODELS. This notebook will take you through \n",
    "- Validation set and cross-validation\n",
    "- Model selection between regression models with many features\n",
    "- Regularisation of regression models\n",
    "\n",
    "The exercises are structured in 3 sections. \n",
    "\n",
    "Remember \n",
    "- It is good practice to use the Machine Learning python environment you made in week 1. Ensure that you are working within the virtual environment (venv) with conda activate ml. where ml is the name of the venv, and/or selecting it on VSCode/Jupyter.\n",
    "- Solving these exercises are supposed to take much longer than 90 minutes. Work on them before going to class.\n",
    "- Learning Machine Learning is challenging. Take your time, make some errors, read documentation if needed. <b>We are happy to help if you are stuck.</b>\n",
    "- None of the exercises are mandatory, do your best to solve them! Every weekend solutions will be published!\n",
    "- Do not hesitate in reaching out to the TAs for any issue you might encounter while solving them\n",
    "- Remember to provide a Feedback on this Exercise sheet on the LearnIT page of the course so we can make an even better exercise session!\n",
    "\n",
    "Have fun! "
   ]
  },
  {
   "cell_type": "markdown",
   "id": "6629a7bc-7f16-4808-a4eb-fbba3570d85e",
   "metadata": {},
   "source": [
    "# <b>Exploring theoretical background</b>"
   ]
  },
  {
   "cell_type": "markdown",
   "id": "06873f4d-1cf8-4761-becc-932ed7c94b37",
   "metadata": {},
   "source": [
    "### Exercise t1\n",
    "\n",
    "Open questions\n",
    "\n",
    "1) Why do we need cross-validation? Compare LOOCV and k-fold cross-validation. What are the main advantages and disadvantages of each?\n",
    "2) After performing 2-fold, 5-fold, and 10-fold CV on the same dataset, you notice that as k increases, your estimated test error decreases slightly, but the results vary more between runs. Why? What happens with the bias and variance of the estimated test error? \n",
    "3) You split your dataset into 5 folds without shuffling. It turns out your data is ordered by time. What problem might occur, and how could you fix it?\n",
    "4) You compare two nested models (Model A and Model B) using cross-validation. Model A has 10 predictors, Model B has 15 predictors. Cross-validation shows almost identical MSEs. Which model should you choose?\n",
    "5) Explain in words (and maybe a sketch) how the penalty in ridge regression affects the estimated coefficients compared to lasso regression.\n"
   ]
  },
  {
   "cell_type": "code",
   "execution_count": 30,
   "id": "4fbe6eff",
   "metadata": {},
   "outputs": [],
   "source": [
    "# Your solution here...\n",
    "\n",
    "\"\"\"\n",
    "# We need cross validation, to better estimate the error for the test and decrease variance and bias, aka reduce overfit. The advantage of loocv is we\n",
    "run throug the whole dataset, but for every CV its a comppletely different test and training, but this take times! Instead do k-fold as we decrease\n",
    "the time it takes and still have different test and training for every k-fold. \n",
    "\n",
    "2) More folds gives smaller validation set and larger training set. It will produce more variance in the estimate for the error, but the bias decrease.\n",
    "As we have more training data to train on and less to test on, the model because more overfit to the reality of society.\n",
    "3)It might give us an overfit, as the data is ordered and it might not actually recgonize the patterns, if we dont shuffle the data.\n",
    "Shuffle the data randomly before CV.\n",
    "\n",
    "4)Choose the more simpler model :) This model is easier to interpret, than the more complex model. The model with more predictors might have\n",
    "lower bias, but is harder to understand, even though they have same MSE.\n",
    "\n",
    "5)\n",
    "The ridge regression will continue to decrease the importance of the predictors by reducing them close to 0, while lasso completely eliminates them.\n",
    "Use ridge when we want to reduce the impact of the less important predictors, without removing them.\n",
    "Use lasso when you want a sparse model and try to only use the most important predictors.\n",
    "\"\"\""
   ]
  },
  {
   "cell_type": "markdown",
   "id": "26f2b7f0",
   "metadata": {},
   "source": [
    "### Exercise t2\n",
    "\n",
    "Indicate whether each statement is true or false, and explain your reasoning:\n",
    "\n",
    "1) The importance of feature in ridge or lasso regression depends on the scale of the features.\n",
    "2) In k-fold cross-validation, the result is always identical across different runs if we keep the same value of k. \n",
    "3) Two nested models can be compared using cross-validation or an F-test."
   ]
  },
  {
   "cell_type": "code",
   "execution_count": 31,
   "id": "0890418f",
   "metadata": {},
   "outputs": [],
   "source": [
    "# Your solution here...\n",
    "\"\"\"\n",
    "\n",
    "1) True. Scaling matters because some important features might be scaled different to less important features.\n",
    "\n",
    "2) False if we keep shuffling the data before doing the k-fold. If we dont shuffle every time, they its true.\n",
    "\n",
    "3) True: We can use both tests. For the F-test we do a inferential significance test.\n",
    "\n",
    "\n",
    "\"\"\""
   ]
  },
  {
   "cell_type": "markdown",
   "id": "a350d3d5",
   "metadata": {},
   "source": [
    "### Exercise t3\n",
    "1. The Lasso regression, relative to least squares, is:  \n",
    "\n",
    "    a) More flexible and hence will give improved prediction accuracy when its increase in bias is less than its decrease in variance.  \n",
    "    b) More flexible and hence will give improved prediction accuracy when its increase in variance is less than its decrease in bias.  \n",
    "    c) Less flexible and hence will give improved prediction accuracy when its increase in bias is less than its decrease in variance.  \n",
    "    d) Less flexible and hence will give improved prediction accuracy when its increase in variance is less than its decrease in bias.  \n",
    "\n",
    "2. Repeat for Ridge regression relative to least squares."
   ]
  },
  {
   "cell_type": "code",
   "execution_count": 44,
   "id": "1be2d546",
   "metadata": {},
   "outputs": [],
   "source": [
    "# Your solution here...\n",
    "\"\"\"\n",
    "Because Lasso decreases the variables to close to zero, it decreases the flexibility of the model, meaning it decreases variance and increases bias\n",
    "So c)\n",
    "\n",
    "For ridge\n",
    "\"\"\""
   ]
  },
  {
   "cell_type": "markdown",
   "id": "7d46ab69-03cf-40ad-856d-faa1291c915a",
   "metadata": {},
   "source": [
    "# <b>Applying what you learned</b>"
   ]
  },
  {
   "cell_type": "markdown",
   "id": "7195d964",
   "metadata": {},
   "source": [
    "### Documentation\n",
    "\n",
    "- numpy : https://numpy.org/doc/stable/index\n",
    "- pandas : https://pandas.pydata.org/pandas-docs/stable/\n",
    "- matplotlib.pyplot : https://matplotlib.org/stable/tutorials/pyplot.html\n",
    "- scipy.stats : https://docs.scipy.org/doc/scipy/tutorial/stats.html\n",
    "- random: https://docs.python.org/3/library/random.html\n",
    "- sklearn : https://sklearn.org/stable/getting_started.html\n",
    "    - datasets : https://scikit-learn.org/stable/api/sklearn.datasets.html\n",
    "    - linear_model : https://sklearn.org/stable/api/sklearn.linear_model.html\n",
    "    - model_selection : https://sklearn.org/stable/api/sklearn.model_selection.html\n",
    "    - metrics : https://scikit-learn.org/stable/api/sklearn.metrics.html\n",
    "    - preprocessing: https://scikit-learn.org/stable/modules/preprocessing.html\n",
    "\n"
   ]
  },
  {
   "cell_type": "code",
   "execution_count": 1,
   "id": "e9bca941",
   "metadata": {},
   "outputs": [],
   "source": [
    "# You might need to import even more to solve the exercises !! \n",
    "\n",
    "import numpy as np\n",
    "from pandas import read_csv, DataFrame\n",
    "from math import log, sqrt\n",
    "import matplotlib.pyplot as plt\n",
    "import pandas as pd\n",
    "import random\n",
    "import seaborn as sns\n",
    "from scipy.stats import f\n",
    "\n",
    "from sklearn.linear_model import LinearRegression\n",
    "from sklearn.linear_model import Ridge\n",
    "from sklearn.linear_model import Lasso\n",
    "\n",
    "from sklearn.metrics import mean_squared_error, r2_score\n",
    "\n",
    "from sklearn.model_selection import train_test_split\n",
    "from sklearn.model_selection import LeaveOneOut\n",
    "from sklearn.model_selection import KFold\n",
    "\n",
    "from sklearn.preprocessing import StandardScaler"
   ]
  },
  {
   "cell_type": "markdown",
   "id": "55feae68",
   "metadata": {},
   "source": [
    "#### Dataset\n",
    "\n",
    "On this part of the exercises you will apply the different validation, model selection and regularisation methods learnt today. You will work with the calories dataset, trying to predict the number of calories a person has burnt during a workout based on some biological measures. It has 7 features:\n",
    "- Gender\n",
    "- Age\n",
    "- Height\n",
    "- Weight\n",
    "- Duration\n",
    "- Heart rate\n",
    "- Body temperature"
   ]
  },
  {
   "cell_type": "code",
   "execution_count": 28,
   "id": "c6f4dd97",
   "metadata": {},
   "outputs": [
    {
     "name": "stdout",
     "output_type": "stream",
     "text": [
      "Number of observations:  200\n"
     ]
    },
    {
     "data": {
      "text/html": [
       "<div>\n",
       "<style scoped>\n",
       "    .dataframe tbody tr th:only-of-type {\n",
       "        vertical-align: middle;\n",
       "    }\n",
       "\n",
       "    .dataframe tbody tr th {\n",
       "        vertical-align: top;\n",
       "    }\n",
       "\n",
       "    .dataframe thead th {\n",
       "        text-align: right;\n",
       "    }\n",
       "</style>\n",
       "<table border=\"1\" class=\"dataframe\">\n",
       "  <thead>\n",
       "    <tr style=\"text-align: right;\">\n",
       "      <th></th>\n",
       "      <th>id</th>\n",
       "      <th>Sex</th>\n",
       "      <th>Age</th>\n",
       "      <th>Height</th>\n",
       "      <th>Weight</th>\n",
       "      <th>Duration</th>\n",
       "      <th>Heart_Rate</th>\n",
       "      <th>Body_Temp</th>\n",
       "      <th>Calories</th>\n",
       "    </tr>\n",
       "  </thead>\n",
       "  <tbody>\n",
       "    <tr>\n",
       "      <th>0</th>\n",
       "      <td>0</td>\n",
       "      <td>male</td>\n",
       "      <td>36</td>\n",
       "      <td>189.0</td>\n",
       "      <td>82.0</td>\n",
       "      <td>26.0</td>\n",
       "      <td>101.0</td>\n",
       "      <td>41.0</td>\n",
       "      <td>150.0</td>\n",
       "    </tr>\n",
       "    <tr>\n",
       "      <th>1</th>\n",
       "      <td>1</td>\n",
       "      <td>female</td>\n",
       "      <td>64</td>\n",
       "      <td>163.0</td>\n",
       "      <td>60.0</td>\n",
       "      <td>8.0</td>\n",
       "      <td>85.0</td>\n",
       "      <td>39.7</td>\n",
       "      <td>34.0</td>\n",
       "    </tr>\n",
       "    <tr>\n",
       "      <th>2</th>\n",
       "      <td>2</td>\n",
       "      <td>female</td>\n",
       "      <td>51</td>\n",
       "      <td>161.0</td>\n",
       "      <td>64.0</td>\n",
       "      <td>7.0</td>\n",
       "      <td>84.0</td>\n",
       "      <td>39.8</td>\n",
       "      <td>29.0</td>\n",
       "    </tr>\n",
       "    <tr>\n",
       "      <th>3</th>\n",
       "      <td>3</td>\n",
       "      <td>male</td>\n",
       "      <td>20</td>\n",
       "      <td>192.0</td>\n",
       "      <td>90.0</td>\n",
       "      <td>25.0</td>\n",
       "      <td>105.0</td>\n",
       "      <td>40.7</td>\n",
       "      <td>140.0</td>\n",
       "    </tr>\n",
       "    <tr>\n",
       "      <th>4</th>\n",
       "      <td>4</td>\n",
       "      <td>female</td>\n",
       "      <td>38</td>\n",
       "      <td>166.0</td>\n",
       "      <td>61.0</td>\n",
       "      <td>25.0</td>\n",
       "      <td>102.0</td>\n",
       "      <td>40.6</td>\n",
       "      <td>146.0</td>\n",
       "    </tr>\n",
       "  </tbody>\n",
       "</table>\n",
       "</div>"
      ],
      "text/plain": [
       "   id     Sex  Age  Height  Weight  Duration  Heart_Rate  Body_Temp  Calories\n",
       "0   0    male   36   189.0    82.0      26.0       101.0       41.0     150.0\n",
       "1   1  female   64   163.0    60.0       8.0        85.0       39.7      34.0\n",
       "2   2  female   51   161.0    64.0       7.0        84.0       39.8      29.0\n",
       "3   3    male   20   192.0    90.0      25.0       105.0       40.7     140.0\n",
       "4   4  female   38   166.0    61.0      25.0       102.0       40.6     146.0"
      ]
     },
     "execution_count": 28,
     "metadata": {},
     "output_type": "execute_result"
    }
   ],
   "source": [
    "data = read_csv(\"calories.csv\")\n",
    "print('Number of observations: ', len(data))\n",
    "data.head()"
   ]
  },
  {
   "cell_type": "markdown",
   "id": "91753eda-fbc9-4bec-9572-deac0135ce24",
   "metadata": {},
   "source": [
    "### Exercise a1\n",
    "\n",
    "To find the model that can best predict the calories burned, we will choose the one that performs best on unseen data. To estimate this unknown performance, we use a validation set.\n",
    "\n",
    "A first approach:\n",
    "\n",
    "1) Split the data into two random subsets, each containing half of the observations. Set a random seed of 30 to ensure reproducibility.\n",
    "\n",
    "2) Use one subset as the training set to fit a Linear Regression model that predicts calories burned based on heart rate.\n",
    "\n",
    "3) Use the other subset as the validation set to compute the MSE. Compare it with the training MSE.\n",
    "\n",
    "4) Repeat the process using a random seed of 50. Do you obtain the same results?"
   ]
  },
  {
   "cell_type": "code",
   "execution_count": 29,
   "id": "0515dc2d",
   "metadata": {},
   "outputs": [
    {
     "data": {
      "text/plain": [
       "262.35964729347984"
      ]
     },
     "execution_count": 29,
     "metadata": {},
     "output_type": "execute_result"
    }
   ],
   "source": [
    "## Your solution here...\n",
    "data = pd.get_dummies(data, columns = [\"Sex\"], dtype=\"int\")\n",
    "train_set = data.sample(frac = 0.5, random_state=30)\n",
    "valid_set = data.drop(train_set.index)\n",
    "model = LinearRegression()\n",
    "y = \"Calories\"\n",
    "X= [\"Age\",\"Height\",\"Weight\",\"Duration\",\"Heart_Rate\",\"Body_Temp\",\"Sex_female\",\"Sex_male\"]\n",
    "model.fit(train_set[X],train_set[y])\n",
    "y_model1_pred = model.predict(valid_set[X])\n",
    "mse_model1 = mean_squared_error(valid_set[y], y_model1_pred)\n",
    "mse_model1"
   ]
  },
  {
   "cell_type": "code",
   "execution_count": 30,
   "id": "31b81542",
   "metadata": {},
   "outputs": [
    {
     "data": {
      "text/plain": [
       "135.44038153445734"
      ]
     },
     "execution_count": 30,
     "metadata": {},
     "output_type": "execute_result"
    }
   ],
   "source": [
    "data = read_csv(\"calories.csv\")\n",
    "data = pd.get_dummies(data, columns = [\"Sex\"], dtype=\"int\")\n",
    "train_set = data.sample(frac = 0.5, random_state=50)\n",
    "valid_set = data.drop(train_set.index)\n",
    "model = LinearRegression()\n",
    "y = \"Calories\"\n",
    "X= [\"Age\",\"Height\",\"Weight\",\"Duration\",\"Heart_Rate\",\"Body_Temp\"]\n",
    "model.fit(train_set[X],train_set[y])\n",
    "y_model2_pred = model.predict(valid_set[X])\n",
    "mse_model2 = mean_squared_error(valid_set[y], y_model2_pred)\n",
    "mse_model2\n"
   ]
  },
  {
   "cell_type": "markdown",
   "id": "c5511fe6-3e91-4748-af6a-13bb7b47b11d",
   "metadata": {},
   "source": [
    "### Exercise a2\n",
    "\n",
    "This time, we want to implement **Leave-One-Out Cross-Validation (LOOCV)** to estimate the test MSE.\n",
    "\n",
    "1. Write a function that iterates over the \\(n\\) observations. For each iteration:\n",
    "   - Leave out the \\(i\\)-th observation.\n",
    "   - Fit a Linear Regression model on the remaining \\(n-1\\) observations.\n",
    "   - Use the fitted model to predict the calories for the left-out observation.\n",
    "2. Compute and report the final MSE over all observations.\n",
    "3. Compare this MSE with the one obtained using the previous validation set approach. How do they differ?\n"
   ]
  },
  {
   "cell_type": "code",
   "execution_count": 35,
   "id": "b7140661-6536-4fed-b22a-7703147c5fbb",
   "metadata": {},
   "outputs": [
    {
     "name": "stdout",
     "output_type": "stream",
     "text": [
      "LOOCV MSE: 179.31568842189182\n"
     ]
    }
   ],
   "source": [
    "# Your solution here...\n",
    "loo = LeaveOneOut()\n",
    "model = LinearRegression()\n",
    "features= data[X]\n",
    "target = data[y]\n",
    "\n",
    "\n",
    "def loocv_model(features,target):\n",
    "    y_true =[]\n",
    "    y_pred = []\n",
    "    for train_index, test_index in loo.split(features):\n",
    "        X_train, X_test = features.iloc[train_index], features.iloc[test_index]\n",
    "        y_train, y_test = target.iloc[train_index], target.iloc[test_index]\n",
    "        model.fit(X_train, y_train)\n",
    "        y_hat = model.predict(X_test)\n",
    "        \n",
    "        y_true.append(y_test.values[0])\n",
    "        y_pred.append(y_hat[0])\n",
    "    mse = mean_squared_error(y_true, y_pred)\n",
    "    return mse\n",
    "mse = loocv_model(features,target)\n",
    "print(\"LOOCV MSE:\", mse)\n"
   ]
  },
  {
   "cell_type": "markdown",
   "id": "09a63303",
   "metadata": {},
   "source": [
    "### Exercise a3\n",
    "\n",
    "Now, implement **k-fold cross-validation** with \\(k\\) values of 5, 8, and 10. \n",
    "\n",
    "1. Write a function similar to the LOOCV function from the previous exercise, but this time:\n",
    "   - Split the dataset into \\(k\\) folds.\n",
    "   - For each fold, fit a Linear Regression model on the remaining \\(k-1\\) folds.\n",
    "   - Use the fitted model to predict the calories for the observations in the left-out fold.\n",
    "2. Compute and report the estimated MSE for each value of \\(k\\) (5, 8, and 10).  \n",
    "3. Based on the results, which number of folds would you choose and why?"
   ]
  },
  {
   "cell_type": "code",
   "execution_count": 46,
   "id": "2c65929e",
   "metadata": {},
   "outputs": [
    {
     "name": "stdout",
     "output_type": "stream",
     "text": [
      "fold 5 = 177.62297771601007\n",
      "fold 8 = 179.14359116003703\n",
      "fold 10 = 175.5738862712059\n"
     ]
    }
   ],
   "source": [
    "# Your solution here...\n",
    "\n",
    "def kfoldmodel(features,target, splits):\n",
    "    y_pred = []\n",
    "    y_true = []\n",
    "    model = LinearRegression()\n",
    "    kf = KFold(n_splits=splits, shuffle=True,random_state=42)\n",
    "    for i, (train_index, test_index) in enumerate(kf.split(features)):\n",
    "        X_train, X_test = features.iloc[train_index], features.iloc[test_index]\n",
    "        y_train, y_test = target.iloc[train_index], target.iloc[test_index]\n",
    "        model.fit(X_train, y_train)\n",
    "        y_hat = model.predict(X_test)   \n",
    "        y_true.extend(y_test.values)\n",
    "        y_pred.extend(y_hat)     \n",
    "    mse = mean_squared_error(y_true, y_pred)\n",
    "    return mse\n",
    "folds = [5,8,10]\n",
    "mses = []\n",
    "count = 0\n",
    "for i in folds:\n",
    "    mse = kfoldmodel(features,target,i)\n",
    "    mses.append(mse)\n",
    "    print(f\"fold {i} = {mse}\")\n",
    "    count+=1"
   ]
  },
  {
   "cell_type": "markdown",
   "id": "f596e98d",
   "metadata": {},
   "source": [
    "### Exercise a4\n",
    "We can increase the complexity of our model by increasing the degree of the polynomial.  \n",
    "\n",
    "1. For polynomial degrees from 1 to 8, apply 8-fold cross-validation to estimate the test MSE and its standard error for each degree.  \n",
    "2. Based on your results, what do you expect will happen to the training and test MSE as the polynomial degree increases?  \n",
    "3. Plot the resulting MSE curve against the polynomial degree.\n",
    "4. Choose the optimal degree using the One-Standard-Error (1-SE) rule. "
   ]
  },
  {
   "cell_type": "code",
   "execution_count": 66,
   "id": "08574bc0",
   "metadata": {},
   "outputs": [
    {
     "data": {
      "image/png": "[encoded data removed]",
      "text/plain": [
       "<Figure size 800x500 with 1 Axes>"
      ]
     },
     "metadata": {},
     "output_type": "display_data"
    }
   ],
   "source": [
    "# Your solution here...\n",
    "from sklearn.preprocessing import PolynomialFeatures\n",
    "degrees = range(1,9)\n",
    "X = features.values\n",
    "y = target.values\n",
    "kf = KFold(n_splits=8,shuffle=True,random_state=42)\n",
    "results={}\n",
    "ses = []\n",
    "for deg in degrees:\n",
    "    fold_mse = []\n",
    "    poly = PolynomialFeatures(degree = deg, include_bias=False)\n",
    "    X_poly = poly.fit_transform(X)\n",
    "    model = LinearRegression()\n",
    "\n",
    "    for train_index, test_index in kf.split(X_poly):\n",
    "        X_train, X_test = X_poly[train_index], X_poly[test_index]\n",
    "        y_train, y_test = y[train_index], y[test_index]\n",
    "\n",
    "        model.fit(X_train,y_train)\n",
    "        y_hat = model.predict(X_test)\n",
    "        y_hat_train = model.predict(X_train)\n",
    "        train_mse = mean_squared_error(y_train, y_hat_train)\n",
    "        test_mse = mean_squared_error(y_test,y_hat)\n",
    "        fold_mse.append(test_mse)\n",
    "    mean_mse = np.mean(fold_mse)\n",
    "    se_mse = np.std(fold_mse, ddof=1) / np.sqrt(len(fold_mse))\n",
    "    ses.append(se_mse)\n",
    "    results[deg]={\"test_MSE\": test_mse, \"train_MSE\": train_mse, \"test_SE\": se_mse}\n",
    "\n",
    "\n",
    "test_mses = [results[d][\"test_MSE\"] for d in degrees]\n",
    "train_mses =[results[d][\"train_MSE\"] for d in degrees]\n",
    "plt.figure(figsize=(8,5))\n",
    "plt.plot(degrees,test_mses,marker='o',label=\"Test MSE\", color=\"red\")\n",
    "plt.plot(degrees, train_mses, marker=\"o\",label=\"Train MSE\", color=\"blue\")\n",
    "plt.xlabel(\"Polynomial Degree\")\n",
    "plt.ylabel(\"Mean Squared Error\")\n",
    "plt.title(\"Test MSE vs Polynomial Degree\")\n",
    "plt.xticks(degrees)\n",
    "plt.legend()\n",
    "plt.show()"
   ]
  },
  {
   "cell_type": "code",
   "execution_count": 78,
   "id": "f5ca99c5",
   "metadata": {},
   "outputs": [
    {
     "name": "stdout",
     "output_type": "stream",
     "text": [
      "2\n"
     ]
    }
   ],
   "source": [
    "test_mses = np.array([results[d][\"test_MSE\"] for d in degrees])\n",
    "test_ses = np.array([results[d][\"test_SE\"] for d in degrees])\n",
    "min_idx = np.argmin(test_mses)\n",
    "min_mse = test_mses[min_idx]\n",
    "min_se = ses[min_idx]\n",
    "\n",
    "threshold = min_mse + min_se\n",
    "\n",
    "optimal_degree = degrees[0]  # default\n",
    "for d, mse in zip(degrees, test_mses):\n",
    "    if mse <= threshold:\n",
    "        optimal_degree = d\n",
    "        break\n",
    "print(optimal_degree)"
   ]
  },
  {
   "cell_type": "markdown",
   "id": "082e2202",
   "metadata": {},
   "source": [
    "## Exercise a5 \n",
    "\n",
    "There are other variables in our dataset that can be used as features for our regression model.  \n",
    "\n",
    "1. Train three different Linear Regression models using the following features:  \n",
    "   - Model 1: Heart rate and duration  \n",
    "   - Model 2: Heart rate, duration, and body temperature\n",
    "   - Model 3: Heart rate, height, and weight  \n",
    "2. How could you compare the performance of these models?  \n",
    "3. Based on your comparison, which model would you choose, and why?\n"
   ]
  },
  {
   "cell_type": "code",
   "execution_count": 100,
   "id": "70c26e08",
   "metadata": {},
   "outputs": [
    {
     "data": {
      "image/png": "[encoded data removed]",
      "text/plain": [
       "<Figure size 640x480 with 1 Axes>"
      ]
     },
     "metadata": {},
     "output_type": "display_data"
    }
   ],
   "source": [
    "# Your solution here... \n",
    "X1 = data[[\"Heart_Rate\",\"Duration\"]]\n",
    "X2 = data[[\"Heart_Rate\", \"Duration\", \"Body_Temp\"]]\n",
    "X3 = data[[\"Heart_Rate\", \"Height\", \"Weight\"]]\n",
    "features_list = [X1,X2,X3]\n",
    "features_names = [\"HR+Duration\", \"HR+Duration+Body_Temp\", \"HR+Height+Weight\"]\n",
    "mse_list = {}\n",
    "count = 0\n",
    "splits = [3,5,8,10]\n",
    "for n in splits:\n",
    "    mse_list[n]={}\n",
    "    for d, name in zip(features_list,features_names):\n",
    "        mse = kfoldmodel(d,target,n)\n",
    "        mse_list[n][name] = mse\n",
    "\n",
    "for name in features_names:\n",
    "    mses = [mse_list[n][name] for n in splits]\n",
    "\n",
    "    plt.plot(splits, mses, marker='o', label=name)\n",
    "\n",
    "plt.xlabel(\"Number of Folds (k)\")\n",
    "plt.ylabel(\"Test MSE\")\n",
    "plt.title(\"MSE vs K-Folds for Different Feature Sets\")\n",
    "plt.legend()\n",
    "plt.show()"
   ]
  },
  {
   "cell_type": "markdown",
   "id": "c159246c",
   "metadata": {},
   "source": [
    "### OPTIONAL\n",
    "\n",
    "Implement forward or backward stepwise selection algorithm from last week's Linear Regression exercises to select the optimal features for our linear regression model, considering all 7 possible features."
   ]
  },
  {
   "cell_type": "code",
   "execution_count": 39,
   "id": "a208cd9a",
   "metadata": {},
   "outputs": [],
   "source": [
    "# Your solution here..."
   ]
  },
  {
   "cell_type": "markdown",
   "id": "8d2eb751",
   "metadata": {},
   "source": [
    "### Exercise a6\n",
    "\n",
    "Another strategy for models with many features is applying shrinkage methods, which can improve model fit by reducing the variance of the coefficients. For this exercise, we will fit a model including all 7 variables in the dataset.  \n",
    "\n",
    "The Lasso estimates for coefficients $\\beta$ in a linear regression model are found by minimising $RSS + \\lambda\\sum_{j=1}^p|\\beta_j|$ rather than RSS. \n",
    "\n",
    "\n",
    "In Ridge regression, we estimate $\\beta$ by minimising $RSS + \\lambda\\sum_{j=1}^p\\beta_j^2$ rather than RSS.\n",
    "\n",
    "1. Randomly split the data, leaving aside 25% as a test set to evaluate model performance.  \n",
    "2. Using the training set, fit three models using all features:  \n",
    "   - OLS (simple linear regression)  \n",
    "   - Ridge regression ($\\lambda$ = 10)  \n",
    "   - Lasso regression ($\\lambda$ = 10)  \n",
    "    \n",
    "!! Important: Standardize the features before fitting Ridge and Lasso models.  \n",
    "4. Report the coefficients, training MSE, and test MSE for each model.\n"
   ]
  },
  {
   "cell_type": "code",
   "execution_count": 112,
   "id": "6112e8cd",
   "metadata": {},
   "outputs": [
    {
     "data": {
      "text/plain": [
       "[array([  0.61798414,  -0.29868286,   0.61877847,   6.52239558,\n",
       "          1.80315721, -13.02034605,   4.07551883,  -4.07551883]),\n",
       " np.float64(317.54063479700244)]"
      ]
     },
     "execution_count": 112,
     "metadata": {},
     "output_type": "execute_result"
    }
   ],
   "source": [
    "# Your solution here..\n",
    "from sklearn.linear_model import LinearRegression\n",
    "from sklearn.linear_model import Ridge\n",
    "from sklearn.linear_model import Lasso\n",
    "y = \"Calories\"\n",
    "X= [\"Age\",\"Height\",\"Weight\",\"Duration\",\"Heart_Rate\",\"Body_Temp\",\"Sex_female\",\"Sex_male\"]\n",
    "X_train, X_test, y_train, y_test = train_test_split(data[X],data[y],test_size = 0.25, random_state=42)\n",
    "scaler = StandardScaler()\n",
    "X_train_scaled  = scaler.fit_transform(X_train)\n",
    "#y_train_scaled  = scaler.fit_transform(y_train)\n",
    "X_test_scaled = scaler.transform(X_test)\n",
    "#y_test_scaled = scaler.transform(y_test)\n",
    "model_linear = LinearRegression()\n",
    "model_ridge = Ridge(alpha = 10)\n",
    "model_lasso = Lasso(alpha= 10) #Ted Lasso\n",
    "\n",
    "model_linear.fit(X_train,y_train)\n",
    "model_ridge.fit(X_train_scaled,y_train)\n",
    "model_lasso.fit(X_train_scaled,y_train)\n",
    "\n",
    "y_linear_pred = model_linear.predict(X_test)\n",
    "y_ridge_pred = model_ridge.predict(X_test_scaled)\n",
    "y_lasso_pred = model_lasso.predict(X_test_scaled)\n",
    "test_linear_mse = mean_squared_error(y_test,y_linear_pred)\n",
    "train_linear_mse = mean_squared_error(y_train,model_linear.predict(X_train))\n",
    "test_ridge_mse = mean_squared_error(y_test,y_ridge_pred)\n",
    "train_ridge_mse = mean_squared_error(y_train, model_ridge.predict(X_train_scaled))\n",
    "test_lasso_pred = mean_squared_error(y_test,y_lasso_pred)\n",
    "train_lasso_pred = mean_squared_error(y_train, model_lasso.predict(X_train_scaled))\n",
    "betas_linear = [model_linear.coef_,model_linear.intercept_]\n",
    "betas_ridge = [model_ridge.coef_,model_ridge.intercept_]\n",
    "betas_lasso = [model_lasso.coef_,model_lasso.intercept_]\n",
    "\n",
    "betas_linear\n",
    "\n"
   ]
  },
  {
   "cell_type": "markdown",
   "id": "653ba2ca",
   "metadata": {},
   "source": [
    "### Exercise a7\n",
    "\n",
    "Instead of arbitrarily choosing a regularization parameter $\\lambda$, we can find the optimal value via cross-validation.  \n",
    "\n",
    "1. Using the training dataset, create a further partition to obtain a validation set. Use this to select the best $\\lambda$ for both Ridge and Lasso regression. You can choose to perform either LOOCV or k-fold cross-validation.  \n",
    "3. Plot the MSE for different values of $\\lambda$. Which value appears to be optimal?  \n",
    "4. Can you relate the choice of $\\lambda$ to the bias-variance trade-off?"
   ]
  },
  {
   "cell_type": "code",
   "execution_count": 41,
   "id": "0458af6b",
   "metadata": {},
   "outputs": [],
   "source": [
    "# Your solution here.."
   ]
  },
  {
   "cell_type": "markdown",
   "id": "b1953a2a",
   "metadata": {},
   "source": [
    "### Exercise a8\n",
    "\n",
    "After finding the optimal parameters for both Lasso and Ridge, train the models with the full training set. \n",
    "\n",
    "1) Inspect the coefficients of both models. Which features appear to be the most important?  \n",
    "2. How did the performance of the models change compared to previous steps?  "
   ]
  },
  {
   "cell_type": "code",
   "execution_count": 42,
   "id": "51ddd645",
   "metadata": {},
   "outputs": [],
   "source": [
    "# Your solution here..."
   ]
  },
  {
   "cell_type": "markdown",
   "id": "2a635e31-0f16-427b-8c0b-6d069a4f4eba",
   "metadata": {},
   "source": [
    "# <b>Exploring what you learned</b>"
   ]
  },
  {
   "cell_type": "markdown",
   "id": "3014c148-1516-4efd-a0c6-63496dc53da4",
   "metadata": {},
   "source": [
    "### Exercise e1\n",
    "\n",
    "For this exercise, we use the dataset provided in the `e1.csv` file.  \n",
    "\n",
    "1) Start by investigating the relationship between features and the target variable.  \n",
    "   - Hint: A pairplot is a great way to visualize these relationships.  \n",
    "   - Which feature do you think is the most important?  \n",
    "2) Fit three regression models using all features:  \n",
    "   - OLS (simple linear regression)  \n",
    "   - Ridge regression ($\\lambda$ = 2) \n",
    "   - Lasso regression ($\\lambda$ = 2) \n",
    "3) Compare the coefficients across the three methods. How do they change? Can any of these methods be used for feature selection?  \n",
    "4) Explore different values of $\\lambda$ to observe the effect on the coefficients.  "
   ]
  },
  {
   "cell_type": "code",
   "execution_count": 43,
   "id": "a86f4865-36d2-4f3f-91f0-eef6d83a7901",
   "metadata": {},
   "outputs": [],
   "source": [
    "# Your solution here..."
   ]
  }
 ],
 "metadata": {
  "kernelspec": {
   "display_name": "ml",
   "language": "python",
   "name": "python3"
  },
  "language_info": {
   "codemirror_mode": {
    "name": "ipython",
    "version": 3
   },
   "file_extension": ".py",
   "mimetype": "text/x-python",
   "name": "python",
   "nbconvert_exporter": "python",
   "pygments_lexer": "ipython3",
   "version": "3.13.5"
  }
 },
 "nbformat": 4,
 "nbformat_minor": 5
}
