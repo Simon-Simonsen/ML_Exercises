{
 "cells": [
  {
   "cell_type": "markdown",
   "id": "8a168987-8d24-46f9-893a-f99613c96f93",
   "metadata": {},
   "source": [
    "<b>Machine Learning Exercise session: 07 October 2025</b>"
   ]
  },
  {
   "cell_type": "markdown",
   "id": "5587de67-4b16-466d-b938-5cf0be968926",
   "metadata": {},
   "source": [
    "# <b>Working with: Decision Trees</b>\n",
    "\n",
    "Welcome to this week's exercise session. Today, we will learn about _Decision Trees_ (DT). This notebook will take you through:\n",
    "- Translating intuition into practice\n",
    "    - Setting decision boundaries\n",
    "    - Calculating Impurities\n",
    "    - How does the tree grow deeper\n",
    "- Building Decision Tree classifiers from scratch, and using libraries\n",
    "- Plotting decision boundaries, and showing explainability\n",
    "- How features and hyperparameters can impact performance\n",
    "\n",
    "The exercises are structured in 3 sections (Theory **T**; Application **A**; Exploration **E**). Optionally, here is a table to guide you through this sheet:\n",
    "\n",
    "|To do|Exercise|\n",
    "|----|--|\n",
    "|First|T0-3, A0-2|\n",
    "|Then|T4, A3-4|\n",
    "|Last|E0-3|\n",
    "\n",
    "Remember \n",
    "- It is good practice to use the Machine Learning python environment you made in *Week 1*.\n",
    "- Solving these exercises is supposed to take longer than 90 minutes. Work on them before going to class.\n",
    "- Learning Machine Learning is challenging. Take your time, make some errors, and read the documentation if needed. **We are happy to help if you are stuck**.\n",
    "- *None of the exercises are mandatory, do your best to solve them! Every weekend solutions will be published!*\n",
    "- *Remember to provide feedback on this Exercise sheet on the LearnIT page of the course so we can make better exercise sessions in the future!*\n",
    "\n",
    "**Have fun!** "
   ]
  },
  {
   "cell_type": "markdown",
   "id": "6629a7bc-7f16-4808-a4eb-fbba3570d85e",
   "metadata": {},
   "source": [
    "# <b>Exploring theoretical background</b>"
   ]
  },
  {
   "cell_type": "markdown",
   "id": "6673343a",
   "metadata": {},
   "source": [
    "You are tasked to help MumboJumbo, a well known Minecraft player and content creator, to set up a machine that places torches which can adapt to any environment, using some clever machine learning techniques to decide when to place a torch.\n",
    "\n",
    "In Minecraft, torches are a way to prevent enemies from spawning nearby (i.e. being loaded into the game-world). They appear in dark areas, either when it's night time or if a cave is nearby.\n",
    "\n",
    "MumboJumbo scouted the world that you will be working in, and has given you some information that you can use to work with, as seen below. Equipped with your newly obtained knowledge from the Decision Tree lecture, you are prepared to take on this task."
   ]
  },
  {
   "cell_type": "markdown",
   "id": "b9bf4067-b071-40ea-ba76-84036db6fd4c",
   "metadata": {},
   "source": [
    "# Exercise T0"
   ]
  },
  {
   "cell_type": "markdown",
   "id": "18266270-afdd-48ad-ab63-1125f4d1f937",
   "metadata": {},
   "source": [
    "Drawing **decision boundaries** by \"hand\":\n",
    "\n",
    "Below you are given a dataset with 2 features and two classes:\n",
    "- The distance to a cave, and the overall light level of that area\n",
    "- Whether the area is worth placing a torch in, or not\n",
    "\n",
    "You are also given a plot of this dataset.\n",
    "\n",
    "Now:\n",
    "1. Save the image locally on your machine, or use the DT_Image.png image file\n",
    "2. Using any image editing application or website, draw a line splititting the plot using a single decision boundary with only 1 of the features\n",
    "3. Save your new image containing the decision boundary, you will be using it later\n",
    "\n",
    "<div style=\"display: flex; align-items: flex-start; gap: 20px;\">\n",
    "    <div><table>\n",
    "      <tr><th>Distance to cave</th><th>Light level</th><th>Place torch</th></tr>\n",
    "      <tr><td>0</td><td>2</td><td>0</td></tr>\n",
    "      <tr><td>9</td><td>5</td><td>0</td></tr>\n",
    "      <tr><td>6</td><td>8</td><td>1</td></tr>\n",
    "      <tr><td>3</td><td>10</td><td>0</td></tr>\n",
    "      <tr><td>12</td><td>13</td><td>1</td></tr>\n",
    "    </table></div>\n",
    "    <div><img src=\"DT_Image.png\" alt=\"Example image\" width=\"400\"></div>\n",
    "</div>\n"
   ]
  },
  {
   "cell_type": "markdown",
   "id": "06873f4d-1cf8-4761-becc-932ed7c94b37",
   "metadata": {
    "tags": []
   },
   "source": [
    "# Exercise T1\n"
   ]
  },
  {
   "cell_type": "markdown",
   "id": "121b7a0a-470a-4596-92ac-e150bce368e2",
   "metadata": {},
   "source": [
    "Computing the **Gini Impurity** and **Entropy**:\n",
    "\n",
    "Given the dataset from the previous exerecise, and your carefully chosen decision boundary\n",
    "1. For both regions, calculate their Gini Impurity and Entropy\n",
    "2. Calculate the overall quality of the split using their Weighted Average and by calculating the Information Gain\n",
    "\n",
    "**It is recommended that you do the calculations here for ease of use in the future, but you can do it on paper if you so choose.**\n",
    "\n",
    "**The equations for the required calculations can be found in the lecture slides**"
   ]
  },
  {
   "cell_type": "code",
   "execution_count": null,
   "id": "2f00f219-b84a-45dc-b3b1-19a7ad8d5854",
   "metadata": {},
   "outputs": [],
   "source": [
    "# Your solution goes here\n",
    "\n",
    "\"\"\" \n",
    "Because\n",
    "Gini:\n",
    "2/3*1/3+1/3*2/3=2/9+2/9=4/9\n",
    "\n",
    "Entropy:\n",
    "\n",
    "\n",
    "For calculating split impurity we compute the weights as the number of points in a given region divided by\n",
    "the total nunber of points. And mulitply it by our impurity measure(Gini or Entropy)\n",
    "\"\"\""
   ]
  },
  {
   "cell_type": "markdown",
   "id": "b25eeee2-3b45-40b9-8987-cb72e6466ebb",
   "metadata": {},
   "source": [
    "# Exercise T2"
   ]
  },
  {
   "cell_type": "markdown",
   "id": "7599e9ac-247c-4a57-bf37-e0fddbc0b7dd",
   "metadata": {},
   "source": [
    "Now doing it **again**, going deeper:\n",
    "\n",
    "Given the previous dataset and the image you have split:\n",
    "1. Draw a second decision boundary using the other feature\n",
    "2. Save the image\n",
    "3. Calculate each regions Gini Impurity or Entropy\n",
    "4. Calculate the overall quality of the split using their weighted average or by calculating the Information gain\n",
    "\n",
    "Do you believe you will obtain better results in the end using more splits?"
   ]
  },
  {
   "cell_type": "code",
   "execution_count": null,
   "id": "5f75918a",
   "metadata": {},
   "outputs": [],
   "source": []
  },
  {
   "cell_type": "code",
   "execution_count": null,
   "id": "485bf191-5380-4501-a279-e0cd8781a9af",
   "metadata": {},
   "outputs": [],
   "source": [
    "# Your solution goes here\n",
    "\n",
    "\"\"\" \n",
    "3 regions\n",
    "\n",
    "Gini region1: 0, gini region2: 0, Gini region 3: 0\n",
    "\n",
    "\n",
    "Population Gini: 12/25\n",
    "\n",
    "Information gain using gini\n",
    "12/25-0=12/25 = 0.48\n",
    "\n",
    "Region ginis is 0, because all regions are pure(all points are the same class in each region)\n",
    "\n",
    "\n",
    "\n",
    "\"\"\""
   ]
  },
  {
   "cell_type": "markdown",
   "id": "75ec0025-1f29-414b-8320-0c3f368595dc",
   "metadata": {},
   "source": [
    "# Exercise T3"
   ]
  },
  {
   "cell_type": "markdown",
   "id": "60e2dcbe-8def-4bfb-bfa4-b1530aaf4243",
   "metadata": {},
   "source": [
    "Making a **change**:\n",
    "\n",
    "Given the previous dataset and the image you have split twice now:\n",
    "1. Move any of the decision boundaries by some amount so that at least 1 data point falls into a new region\n",
    "2. Calculate their impurity, using any of the two previous methods, and then the overall quality of the split\n",
    "\n",
    "Has it made any meaningful difference?"
   ]
  },
  {
   "cell_type": "code",
   "execution_count": null,
   "id": "80f42a68",
   "metadata": {},
   "outputs": [],
   "source": [
    "# Your solution goes here"
   ]
  },
  {
   "cell_type": "markdown",
   "id": "0fa688f5",
   "metadata": {},
   "source": [
    "# Exercise T4\n",
    "\n",
    "Discuss in pairs:\n",
    "\n",
    "- Is two splits enough, too much, or too little? Why?\n",
    "- What would happen if you try splitting more?"
   ]
  },
  {
   "cell_type": "markdown",
   "id": "7d46ab69-03cf-40ad-856d-faa1291c915a",
   "metadata": {},
   "source": [
    "# <b>Applying what you learned</b>"
   ]
  },
  {
   "cell_type": "markdown",
   "id": "7594b183",
   "metadata": {},
   "source": [
    "Now that you got some intuition of what results you are expecting from the above exercises, it is time to implement your very own Decision Tree classifier and see if it matches your intuition!"
   ]
  },
  {
   "cell_type": "markdown",
   "id": "7195d964",
   "metadata": {},
   "source": [
    "### **Documentation**\n",
    "\n",
    "Some of the libraries that is expected to be used moving forward:\n",
    "- numpy : https://numpy.org/doc/stable/index\n",
    "- pandas : https://pandas.pydata.org/pandas-docs/stable/\n",
    "- matplotlib.pyplot : https://matplotlib.org/stable/tutorials/pyplot.html\n",
    "- scipy.stats : https://docs.scipy.org/doc/scipy/tutorial/stats.html\n",
    "- sklearn : https://sklearn.org/stable/getting_started.html\n",
    "  - datasets : https://scikit-learn.org/stable/api/sklearn.datasets.html\n",
    "  - tree : https://scikit-learn.org/stable/api/sklearn.tree\n",
    "  - model_selection : https://sklearn.org/stable/api/sklearn.model_selection.html\n",
    "  - metrics : https://scikit-learn.org/stable/api/sklearn.metrics.html\n",
    "\n",
    "**It is recommended that you have these pages available for you to read at any moment, rather than scrolling up and down all the time. In a real working environment your hand wont be held, and you will be responsible to find the relevant documentation.**"
   ]
  },
  {
   "cell_type": "markdown",
   "id": "2abac67e",
   "metadata": {},
   "source": [
    "# Exercise A0"
   ]
  },
  {
   "cell_type": "markdown",
   "id": "41d80497-66e0-4a31-b8dc-539bf885a41f",
   "metadata": {},
   "source": [
    "The first step is to **start simple**\n",
    "\n",
    "To make things easy moving on, implement a few relevant functions for a given region:\n",
    "- Implement a function for calculating Gini Impurity and/or Entropy\n",
    "- Implement a function for calculating the Weighted Impurity and/or Information Gain\n",
    "\n",
    "Don't be worried if you have to come back and add more functions or modify the implemented functions later on as we expand on the difficulty of tasks."
   ]
  },
  {
   "cell_type": "code",
   "execution_count": 13,
   "id": "ca52a0ac",
   "metadata": {},
   "outputs": [
    {
     "name": "stdout",
     "output_type": "stream",
     "text": [
      "0.4444444444444445\n",
      "0.9182958340544896\n"
     ]
    },
    {
     "data": {
      "text/plain": [
       "0.26666666666666666"
      ]
     },
     "execution_count": 13,
     "metadata": {},
     "output_type": "execute_result"
    }
   ],
   "source": [
    "# Your solution goes here\n",
    "import numpy as np\n",
    "#Take list of proportion of classes in region\n",
    "def Gini(proportion):\n",
    "    gini = 0\n",
    "    for k in proportion:\n",
    "        gini+=k * (1-k)\n",
    "    return gini\n",
    "print(Gini([1/3,2/3]))\n",
    "def Entropy(proportion):\n",
    "    entropy = 0\n",
    "    for k in proportion:\n",
    "        entropy += -k*np.log2(k)\n",
    "    return entropy\n",
    "print(Entropy([2/3,1/3]))\n",
    "\n",
    "def split(nR1, nR2, nP, gini =[], entropy = []):\n",
    "    split = 0\n",
    "    if np.sum(gini)>0:\n",
    "        split = (nR1/nP) * gini[0] + (nR2/nP) * gini[1]\n",
    "    if np.sum(entropy)>0:\n",
    "        split = (nR1/nP) * entropy[0] + (nR2/nP) * entropy[1]\n",
    "    return split\n",
    "\n",
    "region = 2\n",
    "gini = [Gini([2/3,1/3]),Gini([1])]\n",
    "split(3,2,5,gini)\n",
    "\n",
    "\n",
    "\n",
    "    "
   ]
  },
  {
   "cell_type": "markdown",
   "id": "91753eda-fbc9-4bec-9572-deac0135ce24",
   "metadata": {},
   "source": [
    "# Exercise A1"
   ]
  },
  {
   "cell_type": "markdown",
   "id": "baa35f32-9fdd-49c8-9342-7d7568c71063",
   "metadata": {},
   "source": [
    "Your first **Decision Tree** from scratch\n",
    "\n",
    "It is time to find the first decision boundary:\n",
    "- Using loops, iterate over the dataset, taking in count one feature at each loop\n",
    "- Calculate the impurity at each step\n",
    "- Save the best split considering which feature gave the best results and at which datapoint, minimizing impurity\n",
    "- Plot the dataset with the best split. *(You may want to add this as a function to the block above to have things neatly organized once the tasks get more complex)*\n",
    "\n",
    "Remember that the Decision Tree model first evaluates the best split given each feature, before any further splits are made.\n",
    "\n",
    "Does it match your initial drawing from T0, and your intuition? Feel free to discuss in pairs."
   ]
  },
  {
   "cell_type": "code",
   "execution_count": null,
   "id": "5e918ca1",
   "metadata": {},
   "outputs": [],
   "source": [
    "# Your solution goes here\n",
    "import pandas as pd\n",
    "\n",
    "# Create the dataset as a dictionary\n",
    "data = {\n",
    "    \"Distance to cave\": [0, 9, 6, 3, 12],\n",
    "    \"Light level\": [2, 5, 8, 10, 13],\n",
    "    \"Place torch\": [0, 0, 1, 0, 1]\n",
    "}\n",
    "\n",
    "# Convert to a pandas DataFrame\n",
    "df = pd.DataFrame(data)\n",
    "\n",
    "# Display it\n",
    "print(df)\n",
    "\n",
    "torch = [0, 0, 1, 0, 1]\n",
    "light = [2, 5, 8, 10, 13]\n",
    "cave = [0, 9, 6, 3, 12]\n",
    "\n",
    "for i in range(len(torch)):\n",
    "    "
   ]
  },
  {
   "cell_type": "markdown",
   "id": "18e0fa02-a809-4b46-b6b8-4d9296ad1b4e",
   "metadata": {},
   "source": [
    "# Exercise A2"
   ]
  },
  {
   "cell_type": "markdown",
   "id": "8fc46a55",
   "metadata": {},
   "source": [
    "Going one **depth** lower\n",
    "\n",
    "Now that one split is made, it is time to create the second split:\n",
    "- Using loops again, iterate over the each region made from the split, taking in count all features.\n",
    "- Calculate the impurity at each step\n",
    "- Save the best split\n",
    "- Plot the dataset with the two splits\n",
    "\n",
    "Remember that the split happens per region, so it has to be calculated for both regions, and for all features."
   ]
  },
  {
   "cell_type": "code",
   "execution_count": null,
   "id": "4c43cc6c",
   "metadata": {},
   "outputs": [],
   "source": [
    "# Your solution goes here"
   ]
  },
  {
   "cell_type": "markdown",
   "id": "dc9deded",
   "metadata": {},
   "source": [
    "# Exercise A3"
   ]
  },
  {
   "cell_type": "markdown",
   "id": "31f68772",
   "metadata": {},
   "source": [
    "Time to **scale up** and look at libraries!\n",
    "\n",
    "Now that you have the foundation on how to split a dataset and calculate impurity, it is time to implement a Decision Tree classifier on a larger dataset using the corresponding libraies:\n",
    "- Load the dataset into memory from the code block provided below and inspect the plot created\n",
    "- Split the dataset into training and validation sets\n",
    "- Using `Feature1` and `Feature2` as your features, with `Label` as your label, train a Decision Tree classifier\n",
    "- Evaluate the result and performance of your classifier\n",
    "- Plot the corresponding decision boundary.\n"
   ]
  },
  {
   "cell_type": "code",
   "execution_count": 3,
   "id": "e126c222",
   "metadata": {},
   "outputs": [
    {
     "data": {
      "image/png": "[encoded data removed]",
      "text/plain": [
       "<Figure size 640x480 with 1 Axes>"
      ]
     },
     "metadata": {},
     "output_type": "display_data"
    }
   ],
   "source": [
    "from sklearn.datasets import make_moons\n",
    "import matplotlib.pyplot as plt\n",
    "X, y = make_moons(noise=0.25, random_state=0)\n",
    "plt.scatter(X[:,0], X[:,1], c=y, cmap='coolwarm', edgecolor='k')\n",
    "plt.xlabel(\"Feature 1\")\n",
    "plt.ylabel(\"Feature 2\")\n",
    "plt.title(\"make_moons dataset\")\n",
    "plt.show()"
   ]
  },
  {
   "cell_type": "code",
   "execution_count": null,
   "id": "9db1d6de",
   "metadata": {},
   "outputs": [],
   "source": [
    "# Your solution goes here"
   ]
  },
  {
   "cell_type": "markdown",
   "id": "09a296d9",
   "metadata": {},
   "source": [
    "# Exercise A4"
   ]
  },
  {
   "cell_type": "markdown",
   "id": "a81c07a0",
   "metadata": {},
   "source": [
    "Back to **scratch**\n",
    "\n",
    "Instead of using the library implementation, it is time to put all your knowledge to test and code a Decision Tree classifier from scratch on the `make_moons` dataset.\n",
    "\n",
    "You are already equipped with the knowledge of how the data is loaded, how the splits are made, and how you can evaluate the performance of models (from past lectures).\n",
    "\n",
    "For this exercise, you will be focusing on developing a recursive tree builder, so that your your splits are automatically made until a stopping condition is met.\n",
    "\n",
    "Your tasks are:\n",
    "- Load the dataset\n",
    "- Implement a recursive tree builder with nodes, which in essence has:\n",
    "    - An node object that holds information about what feature it is split on, the treshold, what its left and right children are, and what its label is\n",
    "    - A function that recursively splits the dataset and builds these nodes, until a stopping condition is met (e.g. until a region is pure or a certain depth is reached)\n",
    "- Run the tree builder on the training dataset\n",
    "- Test it on the validation dataset\n",
    "- Plot the results and evaluate it. How closely does it match the library implementation?"
   ]
  },
  {
   "cell_type": "code",
   "execution_count": null,
   "id": "f218995b",
   "metadata": {},
   "outputs": [],
   "source": [
    "# Your solution goes here"
   ]
  },
  {
   "cell_type": "markdown",
   "id": "2a635e31-0f16-427b-8c0b-6d069a4f4eba",
   "metadata": {},
   "source": [
    "# <b>Exploring what you learned</b>"
   ]
  },
  {
   "cell_type": "markdown",
   "id": "3014c148-1516-4efd-a0c6-63496dc53da4",
   "metadata": {},
   "source": [
    "# Exercise E0"
   ]
  },
  {
   "cell_type": "markdown",
   "id": "9e235b93",
   "metadata": {},
   "source": [
    "Showcasing explainability:\n",
    "- Use export_text and plot_tree to extract and show a simple viauslization of the classifier"
   ]
  },
  {
   "cell_type": "code",
   "execution_count": null,
   "id": "0e663344",
   "metadata": {},
   "outputs": [],
   "source": [
    "# Your solution goes here"
   ]
  },
  {
   "cell_type": "markdown",
   "id": "d075f412",
   "metadata": {},
   "source": [
    "# Exercise E1"
   ]
  },
  {
   "cell_type": "markdown",
   "id": "c11f7929",
   "metadata": {},
   "source": [
    "Checking some properties of Decision Trees:\n",
    "- Show that Decision Trees are invariant to monotonic feature scaling\n",
    "- Verify the same splits before/after StandardScaler/MinMaxScaler\n",
    "\n",
    "**Note**: scaling affects plotting but not split order."
   ]
  },
  {
   "cell_type": "code",
   "execution_count": null,
   "id": "a166a11e",
   "metadata": {},
   "outputs": [],
   "source": [
    "# Your solution goes here"
   ]
  },
  {
   "cell_type": "markdown",
   "id": "1a398b53",
   "metadata": {},
   "source": [
    "# Exercise E2"
   ]
  },
  {
   "cell_type": "markdown",
   "id": "60c6f3a6",
   "metadata": {},
   "source": [
    "How much does the data influence the results:\n",
    "- Train multiple trees with different train/test splits with different seeds (or different samples)\n",
    "- Overlay their boundaries to show variance\n",
    "\n",
    "**Note**: Foreshadowing to why ensemble methods are powerful."
   ]
  },
  {
   "cell_type": "code",
   "execution_count": null,
   "id": "ecb8ee80",
   "metadata": {},
   "outputs": [],
   "source": [
    "# Your solution goes here"
   ]
  }
 ],
 "metadata": {
  "kernelspec": {
   "display_name": "base",
   "language": "python",
   "name": "python3"
  },
  "language_info": {
   "codemirror_mode": {
    "name": "ipython",
    "version": 3
   },
   "file_extension": ".py",
   "mimetype": "text/x-python",
   "name": "python",
   "nbconvert_exporter": "python",
   "pygments_lexer": "ipython3",
   "version": "3.13.5"
  }
 },
 "nbformat": 4,
 "nbformat_minor": 5
}
